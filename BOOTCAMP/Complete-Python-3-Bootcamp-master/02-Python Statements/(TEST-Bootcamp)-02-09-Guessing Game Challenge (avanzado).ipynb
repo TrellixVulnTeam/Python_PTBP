{
 "cells": [
  {
   "cell_type": "markdown",
   "metadata": {},
   "source": [
    "___\n",
    "\n",
    "<a href='https://www.udemy.com/user/joseportilla/'><img src='../Pierian_Data_Logo.png'/></a>\n",
    "___\n",
    "<center><em>Content Copyright by Pierian Data</em></center>\n",
    "\n",
    "\n",
    "NOTA: tomados de https://github.com/Pierian-Data/Complete-Python-3-Bootcamp\n",
    "con pequeños añadidos y aclaraciones para uso temporal en clase (Belerofontech)\n",
    "\n",
    "Copyright by Pierian Data, curso \"Complete Python Bootcamp\", de Jose Portilla (Udemy / GitHub)."
   ]
  },
  {
   "cell_type": "markdown",
   "metadata": {},
   "source": [
    "# Guessing Game Challenge\n",
    "\n",
    "Let's use `while` loops to create a guessing game.\n",
    "\n",
    "The Challenge:\n",
    "\n",
    "Write a program that picks a random integer from 1 to 100, and has players guess the number. The rules are:\n",
    "\n",
    "1. If a player's guess is less than 1 or greater than 100, say \"OUT OF BOUNDS\"\n",
    "2. On a player's first turn, if their guess is\n",
    " * within 10 of the number, return \"WARM!\"\n",
    " * further than 10 away from the number, return \"COLD!\"\n",
    "3. On all subsequent turns, if a guess is \n",
    " * closer to the number than the previous guess return \"WARMER!\"\n",
    " * farther from the number than the previous guess, return \"COLDER!\"\n",
    "4. When the player's guess equals the number, tell them they've guessed correctly *and* how many guesses it took!\n",
    "\n",
    "You can try this from scratch, or follow the steps outlined below. A separate Solution notebook has been provided. Good luck!\n"
   ]
  },
  {
   "cell_type": "markdown",
   "metadata": {},
   "source": [
    "#### First, pick a random integer from 1 to 100 using the random module and assign it to a variable\n",
    "\n",
    "Note: `random.randint(a,b)` returns a random integer in range `[a, b]`, including both end points."
   ]
  },
  {
   "cell_type": "code",
   "execution_count": 2,
   "metadata": {
    "collapsed": true
   },
   "outputs": [],
   "source": [
    "# Para generar números aleatorios, lo veremos más adelante\n",
    "import random\n",
    "r = random.randint(1, 100)"
   ]
  },
  {
   "cell_type": "markdown",
   "metadata": {},
   "source": [
    "#### Next, print an introduction to the game and explain the rules"
   ]
  },
  {
   "cell_type": "code",
   "execution_count": 3,
   "metadata": {
    "collapsed": true
   },
   "outputs": [
    {
     "output_type": "stream",
     "name": "stdout",
     "text": [
      "Debes adivinar un número entre 1 y 100 que he elegido al azar.\nTienes un número ilimitado de intentos (cuantos menos uses, mejor!).\nEn el primer intento, te diré 'WARM!' si estás cerca (dist. < 10)\nSi te acercas más que con el intento anterior, te diré 'WARMER!'\nSi te alejas respecto al intento anterior, te diré 'COLDER!'\nCuando aciertes, te diré el número de intentos que te ha costado\n"
     ]
    }
   ],
   "source": [
    "print(\"Debes adivinar un número entre 1 y 100 que he elegido al azar.\")\n",
    "print(\"Tienes un número ilimitado de intentos (cuantos menos uses, mejor!).\")\n",
    "print(\"En el primer intento, te diré 'WARM!' si estás cerca (dist. < 10)\")\n",
    "print(\"Si te acercas más que con el intento anterior, te diré 'WARMER!'\")\n",
    "print(\"Si te alejas respecto al intento anterior, te diré 'COLDER!'\")\n",
    "print(\"Cuando aciertes, te diré el número de intentos que te ha costado\")"
   ]
  },
  {
   "cell_type": "markdown",
   "metadata": {},
   "source": [
    "#### Create a list to store guesses"
   ]
  },
  {
   "cell_type": "code",
   "execution_count": 4,
   "metadata": {
    "collapsed": true
   },
   "outputs": [],
   "source": [
    "# COMPLETAR: crear una lista donde se irán guardando los intentos\n",
    "lista_intentos=[]"
   ]
  },
  {
   "cell_type": "markdown",
   "metadata": {},
   "source": [
    "#### Write a `while` loop that asks for a valid guess. Test it a few times to make sure it works."
   ]
  },
  {
   "cell_type": "code",
   "execution_count": 6,
   "metadata": {
    "collapsed": true
   },
   "outputs": [],
   "source": [
    "# NOTA: usar input y comprobar que lo recibido es realmente un entero de 1 a 100 (dígitos solamente!), si no lo es se vuelve a pedir antes de hacer nada más...\n",
    "\n",
    "numero_usuario=-5\n",
    "distancia_anterior=0\n",
    "\n",
    "while numero_usuario!=r:\n",
    "    intento_incorrecto = True\n",
    "    \n",
    "    while intento_incorrecto:\n",
    "        numero_usuario = int(input(\"Adivina el número:\"))\n",
    "        if 100<numero_usuario<0:\n",
    "            print(\"No has escrito un numero correcto\")\n",
    "        else:\n",
    "            intento_incorrecto=False\n",
    "            lista_intentos.append(numero_usuario)\n",
    "    \n",
    "    distancia_nueva = abs(r-numero_usuario)\n",
    "    print(\"Número de intentos:\",len(lista_intentos))\n",
    "\n",
    "    if len(lista_intentos)==1:\n",
    "            if  distancia_nueva<10:\n",
    "                print(\"WARM!\")\n",
    "            else:\n",
    "                print(\"Mal empiezas!!\")\n",
    "    else:\n",
    "        if distancia_nueva < distancia_anterior:\n",
    "            print(\"WARMER!!\")\n",
    "        else:\n",
    "            print(\"COLDER!!\")\n",
    "\n",
    "    distancia_anterior=distancia_nueva\n",
    "\n",
    "print(\"Has acertado el numero era el\",r)\n",
    "print(len(lista_intentos))\n"
   ]
  },
  {
   "cell_type": "markdown",
   "metadata": {},
   "source": [
    "#### Write a `while` loop that compares the player's guess to our number. If the player guesses correctly, break from the loop. Otherwise, tell the player if they're warmer or colder, and continue asking for guesses.\n",
    "\n",
    "Some hints:\n",
    "* it may help to sketch out all possible combinations on paper first!\n",
    "* you can use the `abs()` function to find the positive difference between two numbers\n",
    "* if you append all new guesses to the list, then the previous guess is given as `guesses[-2]`"
   ]
  },
  {
   "cell_type": "code",
   "execution_count": null,
   "metadata": {
    "collapsed": true
   },
   "outputs": [],
   "source": [
    "while True:\n",
    "\n",
    "    # we can copy the code from above to take an input\n",
    "    ..."
   ]
  },
  {
   "cell_type": "markdown",
   "metadata": {},
   "source": [
    "That's it! You've just programmed your first game!\n",
    "\n",
    "In the next section we'll learn how to turn some of these repetitive actions into *functions* that can be called whenever we need them."
   ]
  },
  {
   "cell_type": "markdown",
   "metadata": {},
   "source": [
    "### Good Job!"
   ]
  }
 ],
 "metadata": {
  "kernelspec": {
   "display_name": "Python 3",
   "language": "python",
   "name": "python3"
  },
  "language_info": {
   "codemirror_mode": {
    "name": "ipython",
    "version": 3
   },
   "file_extension": ".py",
   "mimetype": "text/x-python",
   "name": "python",
   "nbconvert_exporter": "python",
   "pygments_lexer": "ipython3",
   "version": "3.8.6-final"
  }
 },
 "nbformat": 4,
 "nbformat_minor": 2
}